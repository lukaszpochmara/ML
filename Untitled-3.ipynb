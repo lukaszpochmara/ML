{
 "cells": [
  {
   "cell_type": "markdown",
   "id": "0fb12aba",
   "metadata": {},
   "source": [
    "## Notebook budujący model predykcji przeżycia pasażera na zbiorze Titanic\n",
    "Notebook budujący model predykcji przeżycia pasażera na zbiorze Titanic\n",
    "W tym notatniku przeprowadzimy kompletny proces budowy modelu klasyfikacyjnego przewidującego przeżycie pasażera na podstawie danych z Titanica. Rozpoczniemy od wczytania i eksploracji danych, aby lepiej zrozumieć ich strukturę oraz zależności między cechami. Następnie przejdziemy do przygotowania danych, obejmującego czyszczenie, uzupełnianie braków oraz kodowanie zmiennych kategorycznych. Po podziale danych na zbiory treningowy i testowy, zbudujemy i wytrenujemy modele klasyfikacyjne, takie jak regresja logistyczna i las losowy. Na koniec dokonamy ewaluacji modeli, porównamy ich skuteczność oraz wykonamy predykcję na nowych danych pasażerów."
   ]
  },
  {
   "cell_type": "markdown",
   "id": "ba7c3dea",
   "metadata": {},
   "source": [
    "## Importowanie bibliotek i wczytanie danych\n",
    "\n",
    "Ładujemy niezbędne biblioteki (pandas, numpy, scikit-learn, matplotlib,)\n"
   ]
  },
  {
   "cell_type": "code",
   "execution_count": 1,
   "id": "a24df7ec",
   "metadata": {},
   "outputs": [],
   "source": [
    "# Importowanie bibliotek\n",
    "import pandas as pd\n",
    "import numpy as np\n",
    "import matplotlib.pyplot as plt"
   ]
  },
  {
   "cell_type": "markdown",
   "id": "1904b30a",
   "metadata": {},
   "source": [
    "## Wczytanie danych z pliku CSV\n",
    "\n",
    "W tym kroku pobieramy zbiór danych Titanic z repozytorium GitHub. Zbiór zawiera informacje o pasażerach Titanica, takie jak wiek, płeć, klasa podróży oraz informacja o przeżyciu katastrofy.\n",
    "\n",
    "Wykonywane operacje:\n",
    "1. Definiujemy adres URL prowadzący do surowego pliku CSV w repozytorium GitHub\n",
    "2. Wczytujemy dane bezpośrednio z adresu URL do ramki danych Pandas\n",
    "3. Zapisujemy pobrany zbiór danych lokalnie jako plik 'titanic.csv' dla późniejszego użycia\n",
    "\n",
    "Ten zbiór danych będzie podstawą do budowy modelu predykcyjnego, który pozwoli przewidzieć prawdopodobieństwo przeżycia pasażera na podstawie dostępnych cech."
   ]
  },
  {
   "cell_type": "code",
   "execution_count": 2,
   "id": "8770f3b7",
   "metadata": {},
   "outputs": [],
   "source": [
    "url = 'https://github.com/datasciencedojo/datasets/blob/master/titanic.csv?raw=true'\n",
    "titanic = pd.read_csv(url)\n",
    "titanic.to_csv('titanic.csv', index=False)\n"
   ]
  },
  {
   "cell_type": "markdown",
   "id": "474da488",
   "metadata": {},
   "source": [
    "## Wczytanie danych do Apache Spark\n",
    "\n",
    "W kolejnym kroku wczytujemy dane pasażerów Titanica do środowiska Apache Spark, które umożliwi nam przetwarzanie danych na większą skalę. Apache Spark jest wydajnym narzędziem do analizy dużych zbiorów danych, wykorzystującym przetwarzanie w pamięci.\n",
    "\n",
    "Wykonywane operacje:\n",
    "1. Tworzenie sesji Spark poprzez użycie SparkSession.builder\n",
    "2. Nadanie aplikacji nazwy \"ML\" (Machine Learning)\n",
    "3. Wczytanie wcześniej zapisanego pliku CSV do formatu DataFrame Sparka\n",
    "4. Automatyczne wykrywanie typów danych (inferSchema=True) oraz poprawne przetwarzanie nagłówków (header=True)\n",
    "5. Wyświetlenie pierwszych 5 wierszy danych w celu szybkiej weryfikacji poprawności wczytania\n",
    "\n",
    "Ta konwersja danych do formatu Spark DataFrame pozwoli nam wykorzystać zaawansowane funkcje Sparka do dalszej analizy, przetwarzania i budowania modeli."
   ]
  },
  {
   "cell_type": "code",
   "execution_count": 3,
   "id": "de7741af",
   "metadata": {},
   "outputs": [
    {
     "name": "stdout",
     "output_type": "stream",
     "text": [
      "+-----------+--------+------+--------------------+------+----+-----+-----+----------------+-------+-----+--------+\n",
      "|PassengerId|Survived|Pclass|                Name|   Sex| Age|SibSp|Parch|          Ticket|   Fare|Cabin|Embarked|\n",
      "+-----------+--------+------+--------------------+------+----+-----+-----+----------------+-------+-----+--------+\n",
      "|          1|       0|     3|Braund, Mr. Owen ...|  male|22.0|    1|    0|       A/5 21171|   7.25| NULL|       S|\n",
      "|          2|       1|     1|Cumings, Mrs. Joh...|female|38.0|    1|    0|        PC 17599|71.2833|  C85|       C|\n",
      "|          3|       1|     3|Heikkinen, Miss. ...|female|26.0|    0|    0|STON/O2. 3101282|  7.925| NULL|       S|\n",
      "|          4|       1|     1|Futrelle, Mrs. Ja...|female|35.0|    1|    0|          113803|   53.1| C123|       S|\n",
      "|          5|       0|     3|Allen, Mr. Willia...|  male|35.0|    0|    0|          373450|   8.05| NULL|       S|\n",
      "+-----------+--------+------+--------------------+------+----+-----+-----+----------------+-------+-----+--------+\n",
      "only showing top 5 rows\n",
      "\n"
     ]
    }
   ],
   "source": [
    "from pyspark.sql import SparkSession\n",
    "\n",
    "spark = SparkSession.builder.appName(\"ML\").getOrCreate()\n",
    "\n",
    "dataset = spark.read.csv(\"titanic.csv\", header=True, inferSchema=True)\n",
    "dataset.show(5)\n"
   ]
  },
  {
   "cell_type": "markdown",
   "id": "4b9ee4cc",
   "metadata": {},
   "source": [
    "## Wstępne przetwarzanie danych w Spark - usuwanie zbędnych kolumn\n",
    "\n",
    "W tym kroku usuwamy kolumny, które nie wnoszą wartości do modelu predykcyjnego lub mogą nawet zakłócać proces uczenia maszynowego:\n",
    "\n",
    "1. **PassengerId** - unikalny identyfikator pasażera nie zawiera informacji istotnych dla przewidywania przeżycia; numeracja jest arbitralna i nie ma związku z charakterystyką pasażera\n",
    "\n",
    "2. **Name** - imiona i nazwiska pasażerów nie mają bezpośredniego wpływu na prawdopodobieństwo przeżycia; choć mogłyby zostać wykorzystane do wyodrębnienia tytułów (np. Mr., Mrs., Dr.), zdecydowano się na prostsze podejście z wykorzystaniem już dostępnej zmiennej 'Sex'\n",
    "\n",
    "3. **Ticket** - numery biletów mają zbyt wiele unikalnych wartości i nie wykazują oczywistego wzorca, który mógłby pomóc w predykcji\n",
    "\n",
    "4. **Cabin** - informacja o kabinie ma zbyt wiele brakujących wartości (około 77%), co czyni ją nieprzydatną bez zaawansowanego uzupełniania danych\n",
    "\n",
    "Pozostałe zmienne, takie jak klasa podróży (Pclass), płeć (Sex), wiek (Age), liczba rodzeństwa/małżonków (SibSp), liczba rodziców/dzieci (Parch), opłata za przejazd (Fare) oraz port zaokrętowania (Embarked), są zachowane, ponieważ zawierają istotne informacje, które mogą mieć znaczący wpływ na przeżycie pasażerów."
   ]
  },
  {
   "cell_type": "code",
   "execution_count": 4,
   "id": "60ac4a6d",
   "metadata": {},
   "outputs": [
    {
     "name": "stdout",
     "output_type": "stream",
     "text": [
      "+--------+------+------+----+-----+-----+-------+--------+\n",
      "|Survived|Pclass|   Sex| Age|SibSp|Parch|   Fare|Embarked|\n",
      "+--------+------+------+----+-----+-----+-------+--------+\n",
      "|       0|     3|  male|22.0|    1|    0|   7.25|       S|\n",
      "|       1|     1|female|38.0|    1|    0|71.2833|       C|\n",
      "|       1|     3|female|26.0|    0|    0|  7.925|       S|\n",
      "|       1|     1|female|35.0|    1|    0|   53.1|       S|\n",
      "|       0|     3|  male|35.0|    0|    0|   8.05|       S|\n",
      "+--------+------+------+----+-----+-----+-------+--------+\n",
      "only showing top 5 rows\n",
      "\n"
     ]
    }
   ],
   "source": [
    "dataset= dataset.drop(\"PassengerId\", \"Name\", \"Ticket\", \"Cabin\")\n",
    "dataset.show(5)\n"
   ]
  },
  {
   "cell_type": "code",
   "execution_count": 5,
   "id": "5685d967",
   "metadata": {},
   "outputs": [
    {
     "data": {
      "text/html": [
       "<div>\n",
       "<style scoped>\n",
       "    .dataframe tbody tr th:only-of-type {\n",
       "        vertical-align: middle;\n",
       "    }\n",
       "\n",
       "    .dataframe tbody tr th {\n",
       "        vertical-align: top;\n",
       "    }\n",
       "\n",
       "    .dataframe thead th {\n",
       "        text-align: right;\n",
       "    }\n",
       "</style>\n",
       "<table border=\"1\" class=\"dataframe\">\n",
       "  <thead>\n",
       "    <tr style=\"text-align: right;\">\n",
       "      <th></th>\n",
       "      <th>summary</th>\n",
       "      <th>Survived</th>\n",
       "      <th>Pclass</th>\n",
       "      <th>Sex</th>\n",
       "      <th>Age</th>\n",
       "      <th>SibSp</th>\n",
       "      <th>Parch</th>\n",
       "      <th>Fare</th>\n",
       "      <th>Embarked</th>\n",
       "    </tr>\n",
       "  </thead>\n",
       "  <tbody>\n",
       "    <tr>\n",
       "      <th>0</th>\n",
       "      <td>count</td>\n",
       "      <td>891</td>\n",
       "      <td>891</td>\n",
       "      <td>891</td>\n",
       "      <td>714</td>\n",
       "      <td>891</td>\n",
       "      <td>891</td>\n",
       "      <td>891</td>\n",
       "      <td>889</td>\n",
       "    </tr>\n",
       "    <tr>\n",
       "      <th>1</th>\n",
       "      <td>mean</td>\n",
       "      <td>0.3838383838383838</td>\n",
       "      <td>2.308641975308642</td>\n",
       "      <td>None</td>\n",
       "      <td>29.69911764705882</td>\n",
       "      <td>0.5230078563411896</td>\n",
       "      <td>0.38159371492704824</td>\n",
       "      <td>32.2042079685746</td>\n",
       "      <td>None</td>\n",
       "    </tr>\n",
       "    <tr>\n",
       "      <th>2</th>\n",
       "      <td>stddev</td>\n",
       "      <td>0.48659245426485753</td>\n",
       "      <td>0.8360712409770491</td>\n",
       "      <td>None</td>\n",
       "      <td>14.526497332334035</td>\n",
       "      <td>1.1027434322934315</td>\n",
       "      <td>0.8060572211299488</td>\n",
       "      <td>49.69342859718089</td>\n",
       "      <td>None</td>\n",
       "    </tr>\n",
       "    <tr>\n",
       "      <th>3</th>\n",
       "      <td>min</td>\n",
       "      <td>0</td>\n",
       "      <td>1</td>\n",
       "      <td>female</td>\n",
       "      <td>0.42</td>\n",
       "      <td>0</td>\n",
       "      <td>0</td>\n",
       "      <td>0.0</td>\n",
       "      <td>C</td>\n",
       "    </tr>\n",
       "    <tr>\n",
       "      <th>4</th>\n",
       "      <td>max</td>\n",
       "      <td>1</td>\n",
       "      <td>3</td>\n",
       "      <td>male</td>\n",
       "      <td>80.0</td>\n",
       "      <td>8</td>\n",
       "      <td>6</td>\n",
       "      <td>512.3292</td>\n",
       "      <td>S</td>\n",
       "    </tr>\n",
       "  </tbody>\n",
       "</table>\n",
       "</div>"
      ],
      "text/plain": [
       "  summary             Survived              Pclass     Sex  \\\n",
       "0   count                  891                 891     891   \n",
       "1    mean   0.3838383838383838   2.308641975308642    None   \n",
       "2  stddev  0.48659245426485753  0.8360712409770491    None   \n",
       "3     min                    0                   1  female   \n",
       "4     max                    1                   3    male   \n",
       "\n",
       "                  Age               SibSp                Parch  \\\n",
       "0                 714                 891                  891   \n",
       "1   29.69911764705882  0.5230078563411896  0.38159371492704824   \n",
       "2  14.526497332334035  1.1027434322934315   0.8060572211299488   \n",
       "3                0.42                   0                    0   \n",
       "4                80.0                   8                    6   \n",
       "\n",
       "                Fare Embarked  \n",
       "0                891      889  \n",
       "1   32.2042079685746     None  \n",
       "2  49.69342859718089     None  \n",
       "3                0.0        C  \n",
       "4           512.3292        S  "
      ]
     },
     "execution_count": 5,
     "metadata": {},
     "output_type": "execute_result"
    }
   ],
   "source": [
    "dataset.describe().toPandas()"
   ]
  },
  {
   "cell_type": "code",
   "execution_count": 6,
   "id": "dc37e7af",
   "metadata": {},
   "outputs": [
    {
     "name": "stdout",
     "output_type": "stream",
     "text": [
      "+--------+------+------+----+-----+-----+--------+--------+\n",
      "|Survived|Pclass|   Sex| Age|SibSp|Parch|    Fare|Embarked|\n",
      "+--------+------+------+----+-----+-----+--------+--------+\n",
      "|       0|     3|  male|NULL|    0|    0|  8.4583|       Q|\n",
      "|       1|     2|  male|NULL|    0|    0|    13.0|       S|\n",
      "|       1|     3|female|NULL|    0|    0|   7.225|       C|\n",
      "|       0|     3|  male|NULL|    0|    0|   7.225|       C|\n",
      "|       1|     3|female|NULL|    0|    0|  7.8792|       Q|\n",
      "|       0|     3|  male|NULL|    0|    0|  7.8958|       S|\n",
      "|       1|     1|female|NULL|    1|    0|146.5208|       C|\n",
      "|       1|     3|female|NULL|    0|    0|    7.75|       Q|\n",
      "|       1|     3|  male|NULL|    0|    0|  7.2292|       C|\n",
      "|       0|     3|  male|NULL|    0|    0|  7.8958|       C|\n",
      "|       0|     3|  male|NULL|    0|    0|    8.05|       S|\n",
      "|       0|     3|  male|NULL|    1|    0|    15.5|       Q|\n",
      "|       1|     3|female|NULL|    0|    0|    7.75|       Q|\n",
      "|       0|     3|  male|NULL|    2|    0| 21.6792|       C|\n",
      "|       1|     1|  male|NULL|    0|    0|    35.5|       S|\n",
      "|       0|     1|  male|NULL|    0|    0| 27.7208|       C|\n",
      "|       1|     3|  male|NULL|    1|    1| 15.2458|       C|\n",
      "|       0|     3|  male|NULL|    0|    0|  7.8958|       S|\n",
      "|       0|     3|  male|NULL|    0|    0|    8.05|       S|\n",
      "|       1|     3|female|NULL|    0|    0|  7.7875|       Q|\n",
      "+--------+------+------+----+-----+-----+--------+--------+\n",
      "only showing top 20 rows\n",
      "\n",
      "+--------+------+------+----+-----+-----+----+--------+\n",
      "|Survived|Pclass|   Sex| Age|SibSp|Parch|Fare|Embarked|\n",
      "+--------+------+------+----+-----+-----+----+--------+\n",
      "|       1|     1|female|38.0|    0|    0|80.0|    NULL|\n",
      "|       1|     1|female|62.0|    0|    0|80.0|    NULL|\n",
      "+--------+------+------+----+-----+-----+----+--------+\n",
      "\n"
     ]
    },
    {
     "data": {
      "text/plain": [
       "0"
      ]
     },
     "execution_count": 6,
     "metadata": {},
     "output_type": "execute_result"
    }
   ],
   "source": [
    "dataset.filter(dataset[\"Age\"].isNull()).show(),\n",
    "dataset.filter(dataset[\"Embarked\"].isNull()).show(),\n",
    "dataset.filter(dataset[\"Fare\"].isNull()).count(),\n",
    "dataset.filter(dataset[\"Survived\"].isNull()).count()"
   ]
  },
  {
   "cell_type": "markdown",
   "id": "86066f60",
   "metadata": {},
   "source": [
    "### Wypełnianie braków danych w Spark za pomocą Imputer\n",
    "\n",
    "W poniższej komórce wykorzystujemy klasę `Imputer` z biblioteki PySpark ML do uzupełnienia brakujących wartości w kolumnach `Age` i `Fare` średnią arytmetyczną. Najpierw tworzymy obiekt imputer, określając strategię (`mean`) oraz kolumny wejściowe i wyjściowe. Następnie dopasowujemy model do danych i transformujemy oryginalny zbiór danych, zastępując brakujące wartości odpowiednimi średnimi. Dzięki temu wszystkie rekordy zostają zachowane, a model może lepiej wykorzystać dostępne dane.\n",
    "\n",
    "### Statystyki opisowe po uzupełnieniu braków\n",
    "\n",
    "W tej komórce ponownie wyświetlamy statystyki opisowe zbioru danych po uzupełnieniu brakujących wartości w kolumnach `Age` i `Fare`. Pozwala to zweryfikować, czy operacja imputacji została przeprowadzona poprawnie oraz jak zmieniły się podstawowe statystyki tych cech. Dzięki temu możemy ocenić wpływ uzupełnienia braków na rozkład danych i przygotować zbiór do dalszego przetwarzania."
   ]
  },
  {
   "cell_type": "code",
   "execution_count": 7,
   "id": "65cf3012",
   "metadata": {},
   "outputs": [],
   "source": [
    "from pyspark.ml.feature import Imputer"
   ]
  },
  {
   "cell_type": "code",
   "execution_count": 8,
   "id": "563c82ea",
   "metadata": {},
   "outputs": [],
   "source": [
    "imputer = Imputer(strategy=\"mean\", inputCols=[\"Age\", \"Fare\"], outputCols=[\"Age\", \"Fare\"])\n",
    "imputer_model = imputer.fit(dataset)\n",
    "dataset = imputer_model.transform(dataset)"
   ]
  },
  {
   "cell_type": "code",
   "execution_count": 9,
   "id": "018a8021",
   "metadata": {},
   "outputs": [
    {
     "data": {
      "text/html": [
       "<div>\n",
       "<style scoped>\n",
       "    .dataframe tbody tr th:only-of-type {\n",
       "        vertical-align: middle;\n",
       "    }\n",
       "\n",
       "    .dataframe tbody tr th {\n",
       "        vertical-align: top;\n",
       "    }\n",
       "\n",
       "    .dataframe thead th {\n",
       "        text-align: right;\n",
       "    }\n",
       "</style>\n",
       "<table border=\"1\" class=\"dataframe\">\n",
       "  <thead>\n",
       "    <tr style=\"text-align: right;\">\n",
       "      <th></th>\n",
       "      <th>summary</th>\n",
       "      <th>Survived</th>\n",
       "      <th>Pclass</th>\n",
       "      <th>Sex</th>\n",
       "      <th>Age</th>\n",
       "      <th>SibSp</th>\n",
       "      <th>Parch</th>\n",
       "      <th>Fare</th>\n",
       "      <th>Embarked</th>\n",
       "    </tr>\n",
       "  </thead>\n",
       "  <tbody>\n",
       "    <tr>\n",
       "      <th>0</th>\n",
       "      <td>count</td>\n",
       "      <td>891</td>\n",
       "      <td>891</td>\n",
       "      <td>891</td>\n",
       "      <td>891</td>\n",
       "      <td>891</td>\n",
       "      <td>891</td>\n",
       "      <td>891</td>\n",
       "      <td>889</td>\n",
       "    </tr>\n",
       "    <tr>\n",
       "      <th>1</th>\n",
       "      <td>mean</td>\n",
       "      <td>0.3838383838383838</td>\n",
       "      <td>2.308641975308642</td>\n",
       "      <td>None</td>\n",
       "      <td>29.699117647058763</td>\n",
       "      <td>0.5230078563411896</td>\n",
       "      <td>0.38159371492704824</td>\n",
       "      <td>32.2042079685746</td>\n",
       "      <td>None</td>\n",
       "    </tr>\n",
       "    <tr>\n",
       "      <th>2</th>\n",
       "      <td>stddev</td>\n",
       "      <td>0.48659245426485753</td>\n",
       "      <td>0.8360712409770491</td>\n",
       "      <td>None</td>\n",
       "      <td>13.002015226002891</td>\n",
       "      <td>1.1027434322934315</td>\n",
       "      <td>0.8060572211299488</td>\n",
       "      <td>49.69342859718089</td>\n",
       "      <td>None</td>\n",
       "    </tr>\n",
       "    <tr>\n",
       "      <th>3</th>\n",
       "      <td>min</td>\n",
       "      <td>0</td>\n",
       "      <td>1</td>\n",
       "      <td>female</td>\n",
       "      <td>0.42</td>\n",
       "      <td>0</td>\n",
       "      <td>0</td>\n",
       "      <td>0.0</td>\n",
       "      <td>C</td>\n",
       "    </tr>\n",
       "    <tr>\n",
       "      <th>4</th>\n",
       "      <td>max</td>\n",
       "      <td>1</td>\n",
       "      <td>3</td>\n",
       "      <td>male</td>\n",
       "      <td>80.0</td>\n",
       "      <td>8</td>\n",
       "      <td>6</td>\n",
       "      <td>512.3292</td>\n",
       "      <td>S</td>\n",
       "    </tr>\n",
       "  </tbody>\n",
       "</table>\n",
       "</div>"
      ],
      "text/plain": [
       "  summary             Survived              Pclass     Sex  \\\n",
       "0   count                  891                 891     891   \n",
       "1    mean   0.3838383838383838   2.308641975308642    None   \n",
       "2  stddev  0.48659245426485753  0.8360712409770491    None   \n",
       "3     min                    0                   1  female   \n",
       "4     max                    1                   3    male   \n",
       "\n",
       "                  Age               SibSp                Parch  \\\n",
       "0                 891                 891                  891   \n",
       "1  29.699117647058763  0.5230078563411896  0.38159371492704824   \n",
       "2  13.002015226002891  1.1027434322934315   0.8060572211299488   \n",
       "3                0.42                   0                    0   \n",
       "4                80.0                   8                    6   \n",
       "\n",
       "                Fare Embarked  \n",
       "0                891      889  \n",
       "1   32.2042079685746     None  \n",
       "2  49.69342859718089     None  \n",
       "3                0.0        C  \n",
       "4           512.3292        S  "
      ]
     },
     "execution_count": 9,
     "metadata": {},
     "output_type": "execute_result"
    }
   ],
   "source": [
    "dataset.describe().toPandas()"
   ]
  },
  {
   "cell_type": "code",
   "execution_count": 10,
   "id": "73bd936e",
   "metadata": {},
   "outputs": [
    {
     "name": "stdout",
     "output_type": "stream",
     "text": [
      "root\n",
      " |-- Survived: integer (nullable = true)\n",
      " |-- Pclass: integer (nullable = true)\n",
      " |-- Sex: string (nullable = true)\n",
      " |-- Age: double (nullable = true)\n",
      " |-- SibSp: integer (nullable = true)\n",
      " |-- Parch: integer (nullable = true)\n",
      " |-- Fare: double (nullable = true)\n",
      " |-- Embarked: string (nullable = true)\n",
      "\n"
     ]
    }
   ],
   "source": [
    "dataset.printSchema()"
   ]
  },
  {
   "cell_type": "code",
   "execution_count": 11,
   "id": "12ae93b5",
   "metadata": {},
   "outputs": [
    {
     "name": "stdout",
     "output_type": "stream",
     "text": [
      "+--------+\n",
      "|Survived|\n",
      "+--------+\n",
      "|       1|\n",
      "|       0|\n",
      "+--------+\n",
      "\n"
     ]
    }
   ],
   "source": [
    "dataset.select(\"Survived\").distinct().show()"
   ]
  },
  {
   "cell_type": "code",
   "execution_count": 12,
   "id": "3268b750",
   "metadata": {},
   "outputs": [
    {
     "name": "stdout",
     "output_type": "stream",
     "text": [
      "+------+\n",
      "|Pclass|\n",
      "+------+\n",
      "|     1|\n",
      "|     3|\n",
      "|     2|\n",
      "+------+\n",
      "\n"
     ]
    }
   ],
   "source": [
    "dataset.select(\"Pclass\").distinct().show()"
   ]
  },
  {
   "cell_type": "code",
   "execution_count": 13,
   "id": "0f3a9e24",
   "metadata": {},
   "outputs": [
    {
     "name": "stdout",
     "output_type": "stream",
     "text": [
      "+------+\n",
      "|   Sex|\n",
      "+------+\n",
      "|female|\n",
      "|  male|\n",
      "+------+\n",
      "\n"
     ]
    }
   ],
   "source": [
    "dataset.select(\"Sex\").distinct().show()"
   ]
  },
  {
   "cell_type": "code",
   "execution_count": 14,
   "id": "8658f049",
   "metadata": {},
   "outputs": [
    {
     "name": "stdout",
     "output_type": "stream",
     "text": [
      "+-----------------+\n",
      "|              Age|\n",
      "+-----------------+\n",
      "|              8.0|\n",
      "|             70.0|\n",
      "|             0.92|\n",
      "|             0.42|\n",
      "|             0.67|\n",
      "|29.69911764705882|\n",
      "|             0.83|\n",
      "|              7.0|\n",
      "|             20.5|\n",
      "|             49.0|\n",
      "|             29.0|\n",
      "|             40.5|\n",
      "|             64.0|\n",
      "|             47.0|\n",
      "|             42.0|\n",
      "|             24.5|\n",
      "|             44.0|\n",
      "|             35.0|\n",
      "|             62.0|\n",
      "|             18.0|\n",
      "+-----------------+\n",
      "only showing top 20 rows\n",
      "\n"
     ]
    }
   ],
   "source": [
    "dataset.select(\"Age\").distinct().show()"
   ]
  },
  {
   "cell_type": "code",
   "execution_count": 15,
   "id": "452398ee",
   "metadata": {},
   "outputs": [
    {
     "name": "stdout",
     "output_type": "stream",
     "text": [
      "+-----+\n",
      "|SibSp|\n",
      "+-----+\n",
      "|    1|\n",
      "|    3|\n",
      "|    5|\n",
      "|    4|\n",
      "|    8|\n",
      "|    2|\n",
      "|    0|\n",
      "+-----+\n",
      "\n"
     ]
    }
   ],
   "source": [
    "dataset.select(\"SibSp\").distinct().show()\n",
    "\n"
   ]
  },
  {
   "cell_type": "code",
   "execution_count": 16,
   "id": "12631f9f",
   "metadata": {},
   "outputs": [
    {
     "name": "stdout",
     "output_type": "stream",
     "text": [
      "+-----+\n",
      "|Parch|\n",
      "+-----+\n",
      "|    1|\n",
      "|    6|\n",
      "|    3|\n",
      "|    5|\n",
      "|    4|\n",
      "|    2|\n",
      "|    0|\n",
      "+-----+\n",
      "\n"
     ]
    }
   ],
   "source": [
    "dataset.select(\"Parch\").distinct().show()   \n"
   ]
  },
  {
   "cell_type": "code",
   "execution_count": 17,
   "id": "bcfaf93f",
   "metadata": {},
   "outputs": [
    {
     "name": "stdout",
     "output_type": "stream",
     "text": [
      "+-------+\n",
      "|   Fare|\n",
      "+-------+\n",
      "| 8.5167|\n",
      "|   15.5|\n",
      "| 133.65|\n",
      "| 29.125|\n",
      "|10.4625|\n",
      "| 7.0458|\n",
      "|  9.475|\n",
      "|11.1333|\n",
      "| 7.7333|\n",
      "|77.2875|\n",
      "| 8.6833|\n",
      "|41.5792|\n",
      "| 8.4042|\n",
      "|14.4542|\n",
      "|14.4583|\n",
      "|   8.85|\n",
      "|27.7208|\n",
      "|91.0792|\n",
      "| 7.8292|\n",
      "|20.2125|\n",
      "+-------+\n",
      "only showing top 20 rows\n",
      "\n"
     ]
    }
   ],
   "source": [
    "dataset.select(\"Fare\").distinct().show()\n"
   ]
  },
  {
   "cell_type": "code",
   "execution_count": 18,
   "id": "740706a8",
   "metadata": {},
   "outputs": [
    {
     "name": "stdout",
     "output_type": "stream",
     "text": [
      "+--------+\n",
      "|Embarked|\n",
      "+--------+\n",
      "|       Q|\n",
      "|       C|\n",
      "|       S|\n",
      "|    NULL|\n",
      "+--------+\n",
      "\n"
     ]
    }
   ],
   "source": [
    "dataset.select(\"Embarked\").distinct().show()"
   ]
  },
  {
   "cell_type": "markdown",
   "id": "0016ddc5",
   "metadata": {},
   "source": [
    "W poniższych komórkach wykonywane są operacje kodowania zmiennych kategorycznych oraz przygotowania danych do dalszego modelowania w Apache Spark:\n",
    "\n",
    "- Najpierw importowane są klasy `StringIndexer` oraz `OneHotEncoder` z biblioteki PySpark ML, które służą do przekształcania zmiennych kategorycznych na format numeryczny wymagany przez algorytmy uczenia maszynowego.\n",
    "- Następnie tworzony jest obiekt `StringIndexer`, który zamienia wartości tekstowe w kolumnach takich jak `Sex` czy `Embarked` na odpowiadające im indeksy liczbowe. Indeksowanie dotyczy również pozostałych kolumn, aby zapewnić spójność typów danych.\n",
    "- Model indeksujący jest dopasowywany do danych (`fit`), a następnie transformuje oryginalny zbiór danych, dodając nowe kolumny z indeksami (np. `Sex_index`, `Embarked_index`).\n",
    "- W kolejnych komórkach wyświetlane są przykładowe wartości oryginalnych kolumn oraz ich zakodowanych odpowiedników, co pozwala zweryfikować poprawność przeprowadzonej transformacji.\n",
    "\n",
    "Dzięki tym operacjom dane są odpowiednio przygotowane do dalszych etapów analizy i budowy modeli predykcyjnych w środowisku Spark.\n"
   ]
  },
  {
   "cell_type": "code",
   "execution_count": 19,
   "id": "11e9a1f8",
   "metadata": {},
   "outputs": [],
   "source": [
    "from pyspark.ml.feature import StringIndexer, OneHotEncoder"
   ]
  },
  {
   "cell_type": "code",
   "execution_count": 20,
   "id": "4f97cf6c",
   "metadata": {},
   "outputs": [],
   "source": [
    "string_indexer = StringIndexer(\n",
    "    inputCols=[\"Sex\", \"Embarked\"],\n",
    "    outputCols=[\"Sex_index\", \"Embarked_index\"],\n",
    "    handleInvalid=\"keep\"\n",
    ")\n",
    "string_indexer_model = string_indexer.fit(dataset)\n",
    "dataset = string_indexer_model.transform(dataset)"
   ]
  },
  {
   "cell_type": "code",
   "execution_count": 21,
   "id": "4dfd1eab",
   "metadata": {},
   "outputs": [
    {
     "name": "stdout",
     "output_type": "stream",
     "text": [
      "+--------+------+------+----+-----+-----+-------+--------+---------+--------------+\n",
      "|Survived|Pclass|   Sex| Age|SibSp|Parch|   Fare|Embarked|Sex_index|Embarked_index|\n",
      "+--------+------+------+----+-----+-----+-------+--------+---------+--------------+\n",
      "|       0|     3|  male|22.0|    1|    0|   7.25|       S|      0.0|           0.0|\n",
      "|       1|     1|female|38.0|    1|    0|71.2833|       C|      1.0|           1.0|\n",
      "|       1|     3|female|26.0|    0|    0|  7.925|       S|      1.0|           0.0|\n",
      "|       1|     1|female|35.0|    1|    0|   53.1|       S|      1.0|           0.0|\n",
      "|       0|     3|  male|35.0|    0|    0|   8.05|       S|      0.0|           0.0|\n",
      "+--------+------+------+----+-----+-----+-------+--------+---------+--------------+\n",
      "only showing top 5 rows\n",
      "\n"
     ]
    }
   ],
   "source": [
    "dataset.show(5)"
   ]
  },
  {
   "cell_type": "code",
   "execution_count": 22,
   "id": "f8befc54",
   "metadata": {},
   "outputs": [
    {
     "name": "stdout",
     "output_type": "stream",
     "text": [
      "+--------+------+------+----+-----+-----+-------+--------+---------+--------------+-------------+-------------+\n",
      "|Survived|Pclass|   Sex| Age|SibSp|Parch|   Fare|Embarked|Sex_index|Embarked_index|      Sex_OHE| Embarked_OHE|\n",
      "+--------+------+------+----+-----+-----+-------+--------+---------+--------------+-------------+-------------+\n",
      "|       0|     3|  male|22.0|    1|    0|   7.25|       S|      0.0|           0.0|(2,[0],[1.0])|(3,[0],[1.0])|\n",
      "|       1|     1|female|38.0|    1|    0|71.2833|       C|      1.0|           1.0|(2,[1],[1.0])|(3,[1],[1.0])|\n",
      "|       1|     3|female|26.0|    0|    0|  7.925|       S|      1.0|           0.0|(2,[1],[1.0])|(3,[0],[1.0])|\n",
      "|       1|     1|female|35.0|    1|    0|   53.1|       S|      1.0|           0.0|(2,[1],[1.0])|(3,[0],[1.0])|\n",
      "|       0|     3|  male|35.0|    0|    0|   8.05|       S|      0.0|           0.0|(2,[0],[1.0])|(3,[0],[1.0])|\n",
      "+--------+------+------+----+-----+-----+-------+--------+---------+--------------+-------------+-------------+\n",
      "only showing top 5 rows\n",
      "\n"
     ]
    }
   ],
   "source": [
    "oh_encoder = OneHotEncoder(inputCols=[\"Sex_index\", \"Embarked_index\"],\n",
    "                           outputCols=[\"Sex_OHE\", \"Embarked_OHE\"])\n",
    "oh_encoder_model = oh_encoder.fit(dataset)\n",
    "dataset = oh_encoder_model.transform(dataset)\n",
    "dataset.show(5)"
   ]
  },
  {
   "cell_type": "code",
   "execution_count": 23,
   "id": "f7964c2b",
   "metadata": {},
   "outputs": [],
   "source": [
    "from pyspark.ml.feature import StandardScaler, VectorAssembler\n",
    "from pyspark.ml import Pipeline"
   ]
  },
  {
   "cell_type": "code",
   "execution_count": 24,
   "id": "918297c7",
   "metadata": {},
   "outputs": [],
   "source": [
    "target_name = \"Survived\""
   ]
  },
  {
   "cell_type": "code",
   "execution_count": 25,
   "id": "d5673959",
   "metadata": {},
   "outputs": [
    {
     "data": {
      "text/plain": [
       "['Pclass', 'Age', 'SibSp', 'Parch', 'Fare', 'Sex_index', 'Embarked_index']"
      ]
     },
     "execution_count": 25,
     "metadata": {},
     "output_type": "execute_result"
    }
   ],
   "source": [
    "feature_names = [\"Pclass\", \"Age\", \"SibSp\", \"Parch\", \"Fare\",\"Sex_index\", \"Embarked_index\"]\n",
    "feature_names"
   ]
  },
  {
   "cell_type": "code",
   "execution_count": 26,
   "id": "cd938669",
   "metadata": {},
   "outputs": [
    {
     "name": "stdout",
     "output_type": "stream",
     "text": [
      "+--------+------+------+----+-----+-----+-------+--------+---------+--------------+-------------+-------------+--------------------+\n",
      "|Survived|Pclass|   Sex| Age|SibSp|Parch|   Fare|Embarked|Sex_index|Embarked_index|      Sex_OHE| Embarked_OHE|            features|\n",
      "+--------+------+------+----+-----+-----+-------+--------+---------+--------------+-------------+-------------+--------------------+\n",
      "|       0|     3|  male|22.0|    1|    0|   7.25|       S|      0.0|           0.0|(2,[0],[1.0])|(3,[0],[1.0])|[3.0,22.0,1.0,0.0...|\n",
      "|       1|     1|female|38.0|    1|    0|71.2833|       C|      1.0|           1.0|(2,[1],[1.0])|(3,[1],[1.0])|[1.0,38.0,1.0,0.0...|\n",
      "|       1|     3|female|26.0|    0|    0|  7.925|       S|      1.0|           0.0|(2,[1],[1.0])|(3,[0],[1.0])|[3.0,26.0,0.0,0.0...|\n",
      "|       1|     1|female|35.0|    1|    0|   53.1|       S|      1.0|           0.0|(2,[1],[1.0])|(3,[0],[1.0])|[1.0,35.0,1.0,0.0...|\n",
      "|       0|     3|  male|35.0|    0|    0|   8.05|       S|      0.0|           0.0|(2,[0],[1.0])|(3,[0],[1.0])|(7,[0,1,4],[3.0,3...|\n",
      "+--------+------+------+----+-----+-----+-------+--------+---------+--------------+-------------+-------------+--------------------+\n",
      "only showing top 5 rows\n",
      "\n"
     ]
    }
   ],
   "source": [
    "feature_assembler = VectorAssembler(inputCols=feature_names, outputCol=\"features\")\n",
    "feature_dataset = feature_assembler.transform(dataset)\n",
    "feature_dataset.show(5)"
   ]
  },
  {
   "cell_type": "code",
   "execution_count": 27,
   "id": "a801ae55",
   "metadata": {},
   "outputs": [
    {
     "name": "stdout",
     "output_type": "stream",
     "text": [
      "root\n",
      " |-- Survived: integer (nullable = true)\n",
      " |-- Pclass: integer (nullable = true)\n",
      " |-- Sex: string (nullable = true)\n",
      " |-- Age: double (nullable = true)\n",
      " |-- SibSp: integer (nullable = true)\n",
      " |-- Parch: integer (nullable = true)\n",
      " |-- Fare: double (nullable = true)\n",
      " |-- Embarked: string (nullable = true)\n",
      " |-- Sex_index: double (nullable = false)\n",
      " |-- Embarked_index: double (nullable = false)\n",
      " |-- Sex_OHE: vector (nullable = true)\n",
      " |-- Embarked_OHE: vector (nullable = true)\n",
      " |-- features: vector (nullable = true)\n",
      "\n"
     ]
    }
   ],
   "source": [
    "feature_dataset.printSchema()"
   ]
  },
  {
   "cell_type": "code",
   "execution_count": 28,
   "id": "3467f23d",
   "metadata": {},
   "outputs": [
    {
     "name": "stdout",
     "output_type": "stream",
     "text": [
      "+----------------------------------+\n",
      "|features                          |\n",
      "+----------------------------------+\n",
      "|[3.0,22.0,1.0,0.0,7.25,0.0,0.0]   |\n",
      "|[1.0,38.0,1.0,0.0,71.2833,1.0,1.0]|\n",
      "|[3.0,26.0,0.0,0.0,7.925,1.0,0.0]  |\n",
      "|[1.0,35.0,1.0,0.0,53.1,1.0,0.0]   |\n",
      "|(7,[0,1,4],[3.0,35.0,8.05])       |\n",
      "+----------------------------------+\n",
      "only showing top 5 rows\n",
      "\n"
     ]
    }
   ],
   "source": [
    "feature_dataset.select(\"features\").show(5, truncate=False)"
   ]
  },
  {
   "cell_type": "code",
   "execution_count": 29,
   "id": "97f1bc4b",
   "metadata": {},
   "outputs": [],
   "source": [
    "assemblers = [\n",
    "    VectorAssembler(inputCols=feature_names, outputCol=\"as_features\"),\n",
    "    VectorAssembler(inputCols=[target_name], outputCol=\"target\")\n",
    "]\n",
    "assembler_pipeline = Pipeline(stages=assemblers)\n",
    "assembler_model = assembler_pipeline.fit(dataset)\n",
    "dataset = assembler_model.transform(dataset)\n"
   ]
  },
  {
   "cell_type": "code",
   "execution_count": null,
   "id": "e56ac71e",
   "metadata": {},
   "outputs": [],
   "source": []
  },
  {
   "cell_type": "code",
   "execution_count": 30,
   "id": "378a0d16",
   "metadata": {},
   "outputs": [
    {
     "name": "stdout",
     "output_type": "stream",
     "text": [
      "+--------+------+------+----+-----+-----+-------+--------+---------+--------------+-------------+-------------+----------------------------------+------+\n",
      "|Survived|Pclass|Sex   |Age |SibSp|Parch|Fare   |Embarked|Sex_index|Embarked_index|Sex_OHE      |Embarked_OHE |as_features                       |target|\n",
      "+--------+------+------+----+-----+-----+-------+--------+---------+--------------+-------------+-------------+----------------------------------+------+\n",
      "|0       |3     |male  |22.0|1    |0    |7.25   |S       |0.0      |0.0           |(2,[0],[1.0])|(3,[0],[1.0])|[3.0,22.0,1.0,0.0,7.25,0.0,0.0]   |[0.0] |\n",
      "|1       |1     |female|38.0|1    |0    |71.2833|C       |1.0      |1.0           |(2,[1],[1.0])|(3,[1],[1.0])|[1.0,38.0,1.0,0.0,71.2833,1.0,1.0]|[1.0] |\n",
      "|1       |3     |female|26.0|0    |0    |7.925  |S       |1.0      |0.0           |(2,[1],[1.0])|(3,[0],[1.0])|[3.0,26.0,0.0,0.0,7.925,1.0,0.0]  |[1.0] |\n",
      "|1       |1     |female|35.0|1    |0    |53.1   |S       |1.0      |0.0           |(2,[1],[1.0])|(3,[0],[1.0])|[1.0,35.0,1.0,0.0,53.1,1.0,0.0]   |[1.0] |\n",
      "|0       |3     |male  |35.0|0    |0    |8.05   |S       |0.0      |0.0           |(2,[0],[1.0])|(3,[0],[1.0])|(7,[0,1,4],[3.0,35.0,8.05])       |[0.0] |\n",
      "+--------+------+------+----+-----+-----+-------+--------+---------+--------------+-------------+-------------+----------------------------------+------+\n",
      "only showing top 5 rows\n",
      "\n"
     ]
    }
   ],
   "source": [
    "dataset.show(5, truncate=False)"
   ]
  },
  {
   "cell_type": "code",
   "execution_count": 31,
   "id": "27f7d9d6",
   "metadata": {},
   "outputs": [
    {
     "name": "stdout",
     "output_type": "stream",
     "text": [
      "+--------+------+------+----+-----+-----+-------+--------+---------+--------------+-------------+-------------+----------------------------------+------+--------------------------------------------------------------------------------------------------------------------------------------------+---------------------+\n",
      "|Survived|Pclass|Sex   |Age |SibSp|Parch|Fare   |Embarked|Sex_index|Embarked_index|Sex_OHE      |Embarked_OHE |as_features                       |target|features_scaled                                                                                                                             |target_scaled        |\n",
      "+--------+------+------+----+-----+-----+-------+--------+---------+--------------+-------------+-------------+----------------------------------+------+--------------------------------------------------------------------------------------------------------------------------------------------+---------------------+\n",
      "|0       |3     |male  |22.0|1    |0    |7.25   |S       |0.0      |0.0           |(2,[0],[1.0])|(3,[0],[1.0])|[3.0,22.0,1.0,0.0,7.25,0.0,0.0]   |[0.0] |[0.8269128165243681,-0.5921480257661316,0.43255042804180244,-0.47340772456838975,-0.5021631365156044,-0.7372810452296834,-0.568445011759852]|[-0.7888292974421186]|\n",
      "|1       |1     |female|38.0|1    |0    |71.2833|C       |1.0      |1.0           |(2,[1],[1.0])|(3,[1],[1.0])|[1.0,38.0,1.0,0.0,71.2833,1.0,1.0]|[1.0] |[-1.5652278312782775,0.6384304439468866,0.43255042804180244,-0.47340772456838975,0.7864036178345394,1.354812621329705,0.9757150659170634]   |[1.266278609051822]  |\n",
      "|1       |3     |female|26.0|0    |0    |7.925  |S       |1.0      |0.0           |(2,[1],[1.0])|(3,[0],[1.0])|[3.0,26.0,0.0,0.0,7.925,1.0,0.0]  |[1.0] |[0.8269128165243681,-0.2845034083378771,-0.4742788222764235,-0.47340772456838975,-0.4885798515812601,1.354812621329705,-0.568445011759852]  |[1.266278609051822]  |\n",
      "|1       |1     |female|35.0|1    |0    |53.1   |S       |1.0      |0.0           |(2,[1],[1.0])|(3,[0],[1.0])|[1.0,35.0,1.0,0.0,53.1,1.0,0.0]   |[1.0] |[-1.5652278312782775,0.40769698087569567,0.43255042804180244,-0.47340772456838975,0.4204940697654103,1.354812621329705,-0.568445011759852]  |[1.266278609051822]  |\n",
      "|0       |3     |male  |35.0|0    |0    |8.05   |S       |0.0      |0.0           |(2,[0],[1.0])|(3,[0],[1.0])|(7,[0,1,4],[3.0,35.0,8.05])       |[0.0] |[0.8269128165243681,0.40769698087569567,-0.4742788222764235,-0.47340772456838975,-0.4860644284452704,-0.7372810452296834,-0.568445011759852]|[-0.7888292974421186]|\n",
      "+--------+------+------+----+-----+-----+-------+--------+---------+--------------+-------------+-------------+----------------------------------+------+--------------------------------------------------------------------------------------------------------------------------------------------+---------------------+\n",
      "only showing top 5 rows\n",
      "\n"
     ]
    }
   ],
   "source": [
    "scalers = [\n",
    "    StandardScaler(inputCol=\"as_features\", outputCol=\"features_scaled\", withMean=True, withStd=True),\n",
    "    StandardScaler(inputCol=\"target\", outputCol=\"target_scaled\", withMean=True, withStd=True)\n",
    "]\n",
    "scaler_pipeline = Pipeline(stages=scalers)\n",
    "scaler_model = scaler_pipeline.fit(dataset)  \n",
    "dataset = scaler_model.transform(dataset)\n",
    "dataset.show(5, truncate=False)"
   ]
  },
  {
   "cell_type": "code",
   "execution_count": 34,
   "id": "5a465a00",
   "metadata": {},
   "outputs": [],
   "source": [
    "from pyspark.ml.functions import vector_to_array\n",
    "from pyspark.sql.functions import col"
   ]
  },
  {
   "cell_type": "code",
   "execution_count": 35,
   "id": "a8ce86ed",
   "metadata": {},
   "outputs": [
    {
     "name": "stdout",
     "output_type": "stream",
     "text": [
      "+--------------------------------------------------------------------------------------------------------------------------------------------+---------------------+\n",
      "|features_scaled                                                                                                                             |target_scaled        |\n",
      "+--------------------------------------------------------------------------------------------------------------------------------------------+---------------------+\n",
      "|[0.8269128165243681,-0.5921480257661316,0.43255042804180244,-0.47340772456838975,-0.5021631365156044,-0.7372810452296834,-0.568445011759852]|[-0.7888292974421186]|\n",
      "|[-1.5652278312782775,0.6384304439468866,0.43255042804180244,-0.47340772456838975,0.7864036178345394,1.354812621329705,0.9757150659170634]   |[1.266278609051822]  |\n",
      "|[0.8269128165243681,-0.2845034083378771,-0.4742788222764235,-0.47340772456838975,-0.4885798515812601,1.354812621329705,-0.568445011759852]  |[1.266278609051822]  |\n",
      "|[-1.5652278312782775,0.40769698087569567,0.43255042804180244,-0.47340772456838975,0.4204940697654103,1.354812621329705,-0.568445011759852]  |[1.266278609051822]  |\n",
      "|[0.8269128165243681,0.40769698087569567,-0.4742788222764235,-0.47340772456838975,-0.4860644284452704,-0.7372810452296834,-0.568445011759852]|[-0.7888292974421186]|\n",
      "+--------------------------------------------------------------------------------------------------------------------------------------------+---------------------+\n",
      "only showing top 5 rows\n",
      "\n"
     ]
    }
   ],
   "source": [
    "dataset.withColumn(\"target_scaled\", vector_to_array(col(\"target_scaled\"))).select(\"features_scaled\",\"target_scaled\").show(5, truncate=False)"
   ]
  },
  {
   "cell_type": "code",
   "execution_count": 36,
   "id": "0bacc1f6",
   "metadata": {},
   "outputs": [],
   "source": [
    "dataset = dataset.withColumn(\"target_scaled\", vector_to_array(\"target_scaled\"))\\\n",
    ".withColumn(\"Y\", col(\"target_scaled\")[0])"
   ]
  },
  {
   "cell_type": "code",
   "execution_count": 37,
   "id": "099f5e52",
   "metadata": {},
   "outputs": [
    {
     "name": "stdout",
     "output_type": "stream",
     "text": [
      "root\n",
      " |-- Survived: integer (nullable = true)\n",
      " |-- Pclass: integer (nullable = true)\n",
      " |-- Sex: string (nullable = true)\n",
      " |-- Age: double (nullable = true)\n",
      " |-- SibSp: integer (nullable = true)\n",
      " |-- Parch: integer (nullable = true)\n",
      " |-- Fare: double (nullable = true)\n",
      " |-- Embarked: string (nullable = true)\n",
      " |-- Sex_index: double (nullable = false)\n",
      " |-- Embarked_index: double (nullable = false)\n",
      " |-- Sex_OHE: vector (nullable = true)\n",
      " |-- Embarked_OHE: vector (nullable = true)\n",
      " |-- as_features: vector (nullable = true)\n",
      " |-- target: vector (nullable = true)\n",
      " |-- features_scaled: vector (nullable = true)\n",
      " |-- target_scaled: array (nullable = false)\n",
      " |    |-- element: double (containsNull = false)\n",
      " |-- Y: double (nullable = true)\n",
      "\n"
     ]
    }
   ],
   "source": [
    "dataset.printSchema()"
   ]
  },
  {
   "cell_type": "code",
   "execution_count": 38,
   "id": "5c13ff08",
   "metadata": {},
   "outputs": [],
   "source": [
    "procesed_dataset = dataset.select([\"features_scaled\", \"Y\",target_name])"
   ]
  },
  {
   "cell_type": "code",
   "execution_count": 39,
   "id": "850548f4",
   "metadata": {},
   "outputs": [
    {
     "name": "stdout",
     "output_type": "stream",
     "text": [
      "+--------------------+-------------------+--------+\n",
      "|     features_scaled|                  Y|Survived|\n",
      "+--------------------+-------------------+--------+\n",
      "|[0.82691281652436...|-0.7888292974421186|       0|\n",
      "|[-1.5652278312782...|  1.266278609051822|       1|\n",
      "|[0.82691281652436...|  1.266278609051822|       1|\n",
      "|[-1.5652278312782...|  1.266278609051822|       1|\n",
      "|[0.82691281652436...|-0.7888292974421186|       0|\n",
      "+--------------------+-------------------+--------+\n",
      "only showing top 5 rows\n",
      "\n"
     ]
    }
   ],
   "source": [
    "procesed_dataset.show(5)"
   ]
  },
  {
   "cell_type": "code",
   "execution_count": 40,
   "id": "bc372870",
   "metadata": {},
   "outputs": [
    {
     "name": "stdout",
     "output_type": "stream",
     "text": [
      "root\n",
      " |-- features_scaled: vector (nullable = true)\n",
      " |-- Y: double (nullable = true)\n",
      " |-- Survived: integer (nullable = true)\n",
      "\n"
     ]
    }
   ],
   "source": [
    "procesed_dataset.printSchema()"
   ]
  },
  {
   "cell_type": "code",
   "execution_count": 41,
   "id": "39f5b5f0",
   "metadata": {},
   "outputs": [],
   "source": [
    "train, test = procesed_dataset.randomSplit([0.7, 0.3], seed=123)"
   ]
  },
  {
   "cell_type": "code",
   "execution_count": 43,
   "id": "b4cec580",
   "metadata": {},
   "outputs": [
    {
     "data": {
      "text/plain": [
       "(606, 285)"
      ]
     },
     "execution_count": 43,
     "metadata": {},
     "output_type": "execute_result"
    }
   ],
   "source": [
    "train.count(), test.count()"
   ]
  },
  {
   "cell_type": "code",
   "execution_count": 44,
   "id": "48098622",
   "metadata": {},
   "outputs": [
    {
     "name": "stdout",
     "output_type": "stream",
     "text": [
      "root\n",
      " |-- features_scaled: vector (nullable = true)\n",
      " |-- Y: double (nullable = true)\n",
      " |-- Survived: integer (nullable = true)\n",
      "\n"
     ]
    }
   ],
   "source": [
    "train.printSchema()"
   ]
  },
  {
   "cell_type": "code",
   "execution_count": 45,
   "id": "9049904a",
   "metadata": {},
   "outputs": [],
   "source": [
    "from pyspark.ml.regression import LinearRegression\n",
    "lin_reg = LinearRegression(featuresCol=\"features_scaled\", labelCol=\"Y\", )"
   ]
  },
  {
   "cell_type": "code",
   "execution_count": 46,
   "id": "2c2b5475",
   "metadata": {},
   "outputs": [],
   "source": [
    "lin_reg_model = lin_reg.fit(train)"
   ]
  },
  {
   "cell_type": "code",
   "execution_count": 47,
   "id": "0e381c19",
   "metadata": {},
   "outputs": [
    {
     "data": {
      "text/plain": [
       "DenseVector([-0.3065, -0.1404, -0.1145, -0.0373, 0.0245, 0.5045, 0.041])"
      ]
     },
     "execution_count": 47,
     "metadata": {},
     "output_type": "execute_result"
    }
   ],
   "source": [
    "lin_reg_model.coefficients"
   ]
  },
  {
   "cell_type": "code",
   "execution_count": 48,
   "id": "f0e02d51",
   "metadata": {},
   "outputs": [
    {
     "data": {
      "text/plain": [
       "-0.005999686251703728"
      ]
     },
     "execution_count": 48,
     "metadata": {},
     "output_type": "execute_result"
    }
   ],
   "source": [
    "lin_reg_model.intercept"
   ]
  },
  {
   "cell_type": "code",
   "execution_count": 52,
   "id": "4b17c344",
   "metadata": {},
   "outputs": [
    {
     "name": "stdout",
     "output_type": "stream",
     "text": [
      "+--------------------+-------------------+--------+-------------------+\n",
      "|     features_scaled|                  Y|Survived|         prediction|\n",
      "+--------------------+-------------------+--------+-------------------+\n",
      "|[-1.5652278312782...|  1.266278609051822|       1|  0.323649804325602|\n",
      "|[-1.5652278312782...|-0.7888292974421186|       0| 1.3674945766027073|\n",
      "|[-1.5652278312782...|  1.266278609051822|       1|0.19926249290421474|\n",
      "|[-1.5652278312782...|  1.266278609051822|       1| 1.2223768940578896|\n",
      "|[-1.5652278312782...|  1.266278609051822|       1| 1.4066937588238935|\n",
      "|[-1.5652278312782...|  1.266278609051822|       1| 1.3111385166451148|\n",
      "|[-1.5652278312782...|  1.266278609051822|       1| 1.3835388707625982|\n",
      "|[-1.5652278312782...|  1.266278609051822|       1| 1.2514538645245297|\n",
      "|[-1.5652278312782...|  1.266278609051822|       1| 1.3402800138315332|\n",
      "|[-1.5652278312782...|  1.266278609051822|       1|  1.387960231628355|\n",
      "+--------------------+-------------------+--------+-------------------+\n",
      "only showing top 10 rows\n",
      "\n"
     ]
    }
   ],
   "source": [
    "predicted_train = lin_reg_model.transform(train)\n",
    "predicted_train.show(10)"
   ]
  },
  {
   "cell_type": "code",
   "execution_count": 54,
   "id": "ab522047",
   "metadata": {},
   "outputs": [],
   "source": [
    "target_mean = scaler_model.stages[1].mean[0]\n",
    "target_std = scaler_model.stages[1].std[0]\n",
    "predicted_train = predicted_train.withColumn(\"Prediction_rescaled\",col('prediction') * target_std + target_mean)"
   ]
  },
  {
   "cell_type": "code",
   "execution_count": 55,
   "id": "c47ad301",
   "metadata": {},
   "outputs": [
    {
     "name": "stdout",
     "output_type": "stream",
     "text": [
      "+--------------------+-------------------+--------+-------------------+-------------------+\n",
      "|     features_scaled|                  Y|Survived|         prediction|Prediction_rescaled|\n",
      "+--------------------+-------------------+--------+-------------------+-------------------+\n",
      "|[-1.5652278312782...|  1.266278609051822|       1|  0.323649804325602| 0.5413239364475194|\n",
      "|[-1.5652278312782...|-0.7888292974421186|       0| 1.3674945766027073| 1.0492509260613774|\n",
      "|[-1.5652278312782...|  1.266278609051822|       1|0.19926249290421474| 0.4807980093035794|\n",
      "|[-1.5652278312782...|  1.266278609051822|       1| 1.2223768940578896|  0.978637756754666|\n",
      "|[-1.5652278312782...|  1.266278609051822|       1| 1.4066937588238935| 1.0683249523435596|\n",
      "|[-1.5652278312782...|  1.266278609051822|       1| 1.3111385166451148|  1.021828492533915|\n",
      "|[-1.5652278312782...|  1.266278609051822|       1| 1.3835388707625982|  1.057057958533586|\n",
      "|[-1.5652278312782...|  1.266278609051822|       1| 1.2514538645245297| 0.9927863911766153|\n",
      "|[-1.5652278312782...|  1.266278609051822|       1| 1.3402800138315332| 1.0360085251708067|\n",
      "|[-1.5652278312782...|  1.266278609051822|       1|  1.387960231628355| 1.0592093593684453|\n",
      "+--------------------+-------------------+--------+-------------------+-------------------+\n",
      "only showing top 10 rows\n",
      "\n"
     ]
    }
   ],
   "source": [
    "predicted_train.show(10)"
   ]
  },
  {
   "cell_type": "code",
   "execution_count": 59,
   "id": "85d79f6c",
   "metadata": {},
   "outputs": [],
   "source": [
    "from pyspark.ml.evaluation import RegressionEvaluator\n",
    "rmse_evaluator = RegressionEvaluator(metricName=\"rmse\", labelCol=target_name, predictionCol=\"Prediction_rescaled\")\n",
    "mae_evaluator = RegressionEvaluator(metricName=\"mae\", labelCol=target_name, predictionCol=\"Prediction_rescaled\")"
   ]
  },
  {
   "cell_type": "code",
   "execution_count": 60,
   "id": "8357500b",
   "metadata": {},
   "outputs": [
    {
     "data": {
      "text/plain": [
       "0.3757105882066869"
      ]
     },
     "execution_count": 60,
     "metadata": {},
     "output_type": "execute_result"
    }
   ],
   "source": [
    "rmse_evaluator.evaluate(predicted_train)"
   ]
  },
  {
   "cell_type": "code",
   "execution_count": 61,
   "id": "60d3c8b0",
   "metadata": {},
   "outputs": [
    {
     "data": {
      "text/plain": [
       "0.2883426872591048"
      ]
     },
     "execution_count": 61,
     "metadata": {},
     "output_type": "execute_result"
    }
   ],
   "source": [
    "mae_evaluator.evaluate(predicted_train)"
   ]
  },
  {
   "cell_type": "code",
   "execution_count": 62,
   "id": "e1ac94d2",
   "metadata": {},
   "outputs": [
    {
     "name": "stdout",
     "output_type": "stream",
     "text": [
      "+--------------------+-------------------+--------+------------------+\n",
      "|     features_scaled|                  Y|Survived|        prediction|\n",
      "+--------------------+-------------------+--------+------------------+\n",
      "|[-1.5652278312782...|  1.266278609051822|       1|0.3598656373518593|\n",
      "|[-1.5652278312782...|  1.266278609051822|       1|1.3806191980947635|\n",
      "|[-1.5652278312782...|  1.266278609051822|       1|0.2970534569530104|\n",
      "|[-1.5652278312782...|  1.266278609051822|       1|1.2631236854577528|\n",
      "|[-1.5652278312782...|-0.7888292974421186|       0|0.2739773395040449|\n",
      "|[-1.5652278312782...|-0.7888292974421186|       0|0.1724315809910311|\n",
      "|[-1.5652278312782...|  1.266278609051822|       1|1.1763980810554842|\n",
      "|[-1.5652278312782...|  1.266278609051822|       1|0.2551054635520146|\n",
      "|[-1.5652278312782...|  1.266278609051822|       1|1.2776543006073353|\n",
      "|[-1.5652278312782...|  1.266278609051822|       1|1.3490053197572975|\n",
      "+--------------------+-------------------+--------+------------------+\n",
      "only showing top 10 rows\n",
      "\n"
     ]
    }
   ],
   "source": [
    "predicted_test = lin_reg_model.transform(test)\n",
    "predicted_test.show(10)"
   ]
  },
  {
   "cell_type": "code",
   "execution_count": 63,
   "id": "1498cb3b",
   "metadata": {},
   "outputs": [
    {
     "name": "stdout",
     "output_type": "stream",
     "text": [
      "+--------------------+-------------------+--------+------------------+-------------------+\n",
      "|     features_scaled|                  Y|Survived|        prediction|Prediction_rescaled|\n",
      "+--------------------+-------------------+--------+------------------+-------------------+\n",
      "|[-1.5652278312782...|  1.266278609051822|       1|0.3598656373518593| 0.5589462875230122|\n",
      "|[-1.5652278312782...|  1.266278609051822|       1|1.3806191980947635| 1.0556372678444943|\n",
      "|[-1.5652278312782...|  1.266278609051822|       1|0.2970534569530104| 0.5283823545050094|\n",
      "|[-1.5652278312782...|  1.266278609051822|       1|1.2631236854577528| 0.9984648379853436|\n",
      "|[-1.5652278312782...|-0.7888292974421186|       0|0.2739773395040449| 0.5171536898806132|\n",
      "|[-1.5652278312782...|-0.7888292974421186|       0|0.1724315809910311| 0.4677422900255792|\n",
      "|[-1.5652278312782...|  1.266278609051822|       1|1.1763980810554842| 0.9562648132916407|\n",
      "|[-1.5652278312782...|  1.266278609051822|       1|0.2551054635520146| 0.5079707774445328|\n",
      "|[-1.5652278312782...|  1.266278609051822|       1|1.2776543006073353| 1.0055353256729571|\n",
      "|[-1.5652278312782...|  1.266278609051822|       1|1.3490053197572975|  1.040254193195436|\n",
      "+--------------------+-------------------+--------+------------------+-------------------+\n",
      "only showing top 10 rows\n",
      "\n"
     ]
    }
   ],
   "source": [
    "predicted_test = predicted_test.withColumn(\"Prediction_rescaled\",col('prediction') * target_std + target_mean)\n",
    "predicted_test.show(10)"
   ]
  },
  {
   "cell_type": "code",
   "execution_count": 64,
   "id": "562d414e",
   "metadata": {},
   "outputs": [
    {
     "data": {
      "text/plain": [
       "0.3757105882066869"
      ]
     },
     "execution_count": 64,
     "metadata": {},
     "output_type": "execute_result"
    }
   ],
   "source": [
    "rmse_evaluator.evaluate(predicted_train)"
   ]
  },
  {
   "cell_type": "code",
   "execution_count": 65,
   "id": "a6b7ad4a",
   "metadata": {},
   "outputs": [
    {
     "data": {
      "text/plain": [
       "0.2883426872591048"
      ]
     },
     "execution_count": 65,
     "metadata": {},
     "output_type": "execute_result"
    }
   ],
   "source": [
    "mae_evaluator.evaluate(predicted_train)"
   ]
  },
  {
   "cell_type": "code",
   "execution_count": 66,
   "id": "96acfeb2",
   "metadata": {},
   "outputs": [
    {
     "name": "stdout",
     "output_type": "stream",
     "text": [
      "+--------------------+\n",
      "|                diff|\n",
      "+--------------------+\n",
      "|-0.44105371247698777|\n",
      "|  0.0556372678444943|\n",
      "|-0.47161764549499063|\n",
      "|-0.00153516201465...|\n",
      "|  0.5171536898806132|\n",
      "|  0.4677422900255792|\n",
      "| -0.0437351867083593|\n",
      "| -0.4920292225554672|\n",
      "|0.005535325672957114|\n",
      "|0.040254193195436105|\n",
      "+--------------------+\n",
      "only showing top 10 rows\n",
      "\n"
     ]
    }
   ],
   "source": [
    "diffs = predicted_test.withColumn(\"diff\", col(\"Prediction_rescaled\") - col(target_name)).select(\"diff\")\n",
    "diffs.show(10)"
   ]
  },
  {
   "cell_type": "code",
   "execution_count": 67,
   "id": "b9893d92",
   "metadata": {},
   "outputs": [
    {
     "data": {
      "text/plain": [
       "array([[<Axes: title={'center': 'diff'}>]], dtype=object)"
      ]
     },
     "execution_count": 67,
     "metadata": {},
     "output_type": "execute_result"
    },
    {
     "data": {
      "image/png": "[encoded data removed]",
      "text/plain": [
       "<Figure size 640x480 with 1 Axes>"
      ]
     },
     "metadata": {},
     "output_type": "display_data"
    }
   ],
   "source": [
    "diffs.toPandas().hist(bins=10)"
   ]
  },
  {
   "cell_type": "code",
   "execution_count": 68,
   "id": "d1ca6fe8",
   "metadata": {},
   "outputs": [
    {
     "data": {
      "text/html": [
       "<div>\n",
       "<style scoped>\n",
       "    .dataframe tbody tr th:only-of-type {\n",
       "        vertical-align: middle;\n",
       "    }\n",
       "\n",
       "    .dataframe tbody tr th {\n",
       "        vertical-align: top;\n",
       "    }\n",
       "\n",
       "    .dataframe thead th {\n",
       "        text-align: right;\n",
       "    }\n",
       "</style>\n",
       "<table border=\"1\" class=\"dataframe\">\n",
       "  <thead>\n",
       "    <tr style=\"text-align: right;\">\n",
       "      <th></th>\n",
       "      <th>summary</th>\n",
       "      <th>diff</th>\n",
       "    </tr>\n",
       "  </thead>\n",
       "  <tbody>\n",
       "    <tr>\n",
       "      <th>0</th>\n",
       "      <td>count</td>\n",
       "      <td>285</td>\n",
       "    </tr>\n",
       "    <tr>\n",
       "      <th>1</th>\n",
       "      <td>mean</td>\n",
       "      <td>-0.00912697274985788</td>\n",
       "    </tr>\n",
       "    <tr>\n",
       "      <th>2</th>\n",
       "      <td>stddev</td>\n",
       "      <td>0.3829473080421713</td>\n",
       "    </tr>\n",
       "    <tr>\n",
       "      <th>3</th>\n",
       "      <td>min</td>\n",
       "      <td>-0.954409592160165</td>\n",
       "    </tr>\n",
       "    <tr>\n",
       "      <th>4</th>\n",
       "      <td>max</td>\n",
       "      <td>0.7532327241637112</td>\n",
       "    </tr>\n",
       "  </tbody>\n",
       "</table>\n",
       "</div>"
      ],
      "text/plain": [
       "  summary                  diff\n",
       "0   count                   285\n",
       "1    mean  -0.00912697274985788\n",
       "2  stddev    0.3829473080421713\n",
       "3     min    -0.954409592160165\n",
       "4     max    0.7532327241637112"
      ]
     },
     "execution_count": 68,
     "metadata": {},
     "output_type": "execute_result"
    }
   ],
   "source": [
    "diffs.describe().toPandas()"
   ]
  },
  {
   "cell_type": "code",
   "execution_count": null,
   "id": "bddb3d44",
   "metadata": {},
   "outputs": [],
   "source": []
  }
 ],
 "metadata": {
  "kernelspec": {
   "display_name": "base",
   "language": "python",
   "name": "python3"
  },
  "language_info": {
   "codemirror_mode": {
    "name": "ipython",
    "version": 3
   },
   "file_extension": ".py",
   "mimetype": "text/x-python",
   "name": "python",
   "nbconvert_exporter": "python",
   "pygments_lexer": "ipython3",
   "version": "3.12.7"
  }
 },
 "nbformat": 4,
 "nbformat_minor": 5
}
